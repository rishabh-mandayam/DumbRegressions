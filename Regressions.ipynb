{
 "cells": [
  {
   "cell_type": "markdown",
   "id": "0601a0c1",
   "metadata": {},
   "source": [
    "# Dumb Machine Learning on Recruiting Data\n",
    "\n",
    "This notebook is runs random ML models on a sample size of 18 to find out which variables are best for predicting output. \n",
    "\n",
    "DISCLAIMER: This data is all entirely made up and is not proprietary information whatsoever. Any similaraties to internal recruiting data is purely coincidentatal plz dont sue me :)\n"
   ]
  },
  {
   "cell_type": "markdown",
   "id": "d803d0a4",
   "metadata": {},
   "source": [
    "## Importing Packages"
   ]
  },
  {
   "cell_type": "code",
   "execution_count": 1,
   "id": "662ca892",
   "metadata": {},
   "outputs": [],
   "source": [
    "import csv\n",
    "import pandas as pd\n",
    "from sklearn.linear_model import LinearRegression\n",
    "from sklearn.linear_model import LogisticRegression\n",
    "from sklearn.ensemble import RandomForestClassifier"
   ]
  },
  {
   "cell_type": "markdown",
   "id": "d898eca9",
   "metadata": {},
   "source": [
    "## Exploratory Data Analysis"
   ]
  },
  {
   "cell_type": "code",
   "execution_count": 2,
   "id": "eba1279d",
   "metadata": {},
   "outputs": [
    {
     "data": {
      "text/html": [
       "<div>\n",
       "<style scoped>\n",
       "    .dataframe tbody tr th:only-of-type {\n",
       "        vertical-align: middle;\n",
       "    }\n",
       "\n",
       "    .dataframe tbody tr th {\n",
       "        vertical-align: top;\n",
       "    }\n",
       "\n",
       "    .dataframe thead th {\n",
       "        text-align: right;\n",
       "    }\n",
       "</style>\n",
       "<table border=\"1\" class=\"dataframe\">\n",
       "  <thead>\n",
       "    <tr style=\"text-align: right;\">\n",
       "      <th></th>\n",
       "      <th>Data Structures and Algorithms</th>\n",
       "      <th>Coding</th>\n",
       "      <th>Structured Problem Solving</th>\n",
       "      <th>Commerciality</th>\n",
       "      <th>Communication</th>\n",
       "      <th>Recommendation</th>\n",
       "    </tr>\n",
       "  </thead>\n",
       "  <tbody>\n",
       "    <tr>\n",
       "      <th>0</th>\n",
       "      <td>2</td>\n",
       "      <td>3</td>\n",
       "      <td>4</td>\n",
       "      <td>4.0</td>\n",
       "      <td>5.0</td>\n",
       "      <td>No</td>\n",
       "    </tr>\n",
       "    <tr>\n",
       "      <th>1</th>\n",
       "      <td>3</td>\n",
       "      <td>2</td>\n",
       "      <td>3</td>\n",
       "      <td>NaN</td>\n",
       "      <td>4.0</td>\n",
       "      <td>Yes</td>\n",
       "    </tr>\n",
       "    <tr>\n",
       "      <th>2</th>\n",
       "      <td>1</td>\n",
       "      <td>1</td>\n",
       "      <td>1</td>\n",
       "      <td>1.0</td>\n",
       "      <td>1.0</td>\n",
       "      <td>No</td>\n",
       "    </tr>\n",
       "    <tr>\n",
       "      <th>3</th>\n",
       "      <td>3</td>\n",
       "      <td>4</td>\n",
       "      <td>3</td>\n",
       "      <td>4.0</td>\n",
       "      <td>3.0</td>\n",
       "      <td>Yes</td>\n",
       "    </tr>\n",
       "    <tr>\n",
       "      <th>4</th>\n",
       "      <td>3</td>\n",
       "      <td>3</td>\n",
       "      <td>2</td>\n",
       "      <td>4.0</td>\n",
       "      <td>3.0</td>\n",
       "      <td>Yes</td>\n",
       "    </tr>\n",
       "  </tbody>\n",
       "</table>\n",
       "</div>"
      ],
      "text/plain": [
       "   Data Structures and Algorithms  Coding  Structured Problem Solving  \\\n",
       "0                               2       3                           4   \n",
       "1                               3       2                           3   \n",
       "2                               1       1                           1   \n",
       "3                               3       4                           3   \n",
       "4                               3       3                           2   \n",
       "\n",
       "   Commerciality  Communication Recommendation  \n",
       "0            4.0            5.0             No  \n",
       "1            NaN            4.0            Yes  \n",
       "2            1.0            1.0             No  \n",
       "3            4.0            3.0            Yes  \n",
       "4            4.0            3.0            Yes  "
      ]
     },
     "metadata": {},
     "output_type": "display_data"
    }
   ],
   "source": [
    "csv_file_path = 'Data/data.csv'\n",
    "\n",
    "df = pd.read_csv(csv_file_path)\n",
    "\n",
    "display(df.head(5))"
   ]
  },
  {
   "cell_type": "markdown",
   "id": "e0bb4453",
   "metadata": {},
   "source": [
    "Clearly there is work to be done. Lets first find out the number of NaN values so we know what to do with them"
   ]
  },
  {
   "cell_type": "code",
   "execution_count": 3,
   "id": "ed205447",
   "metadata": {},
   "outputs": [
    {
     "data": {
      "text/plain": [
       "Data Structures and Algorithms    0\n",
       "Coding                            0\n",
       "Structured Problem Solving        0\n",
       "Commerciality                     6\n",
       "Communication                     1\n",
       "Recommendation                    0\n",
       "dtype: int64"
      ]
     },
     "execution_count": 3,
     "metadata": {},
     "output_type": "execute_result"
    }
   ],
   "source": [
    "df.isna().sum()"
   ]
  },
  {
   "cell_type": "markdown",
   "id": "bf29ae3e",
   "metadata": {},
   "source": [
    "Clearly, the \"Commerciality\" column is not very useful since 33% of the values are NaN. Furthermore, what even is the Commerciality of a student? This column should be dropped. For the other NaN value, lets just set it to 1."
   ]
  },
  {
   "cell_type": "code",
   "execution_count": 4,
   "id": "3d80ba97",
   "metadata": {},
   "outputs": [
    {
     "data": {
      "text/html": [
       "<div>\n",
       "<style scoped>\n",
       "    .dataframe tbody tr th:only-of-type {\n",
       "        vertical-align: middle;\n",
       "    }\n",
       "\n",
       "    .dataframe tbody tr th {\n",
       "        vertical-align: top;\n",
       "    }\n",
       "\n",
       "    .dataframe thead th {\n",
       "        text-align: right;\n",
       "    }\n",
       "</style>\n",
       "<table border=\"1\" class=\"dataframe\">\n",
       "  <thead>\n",
       "    <tr style=\"text-align: right;\">\n",
       "      <th></th>\n",
       "      <th>Data Structures and Algorithms</th>\n",
       "      <th>Coding</th>\n",
       "      <th>Structured Problem Solving</th>\n",
       "      <th>Communication</th>\n",
       "      <th>Recommendation</th>\n",
       "    </tr>\n",
       "  </thead>\n",
       "  <tbody>\n",
       "    <tr>\n",
       "      <th>0</th>\n",
       "      <td>2</td>\n",
       "      <td>3</td>\n",
       "      <td>4</td>\n",
       "      <td>5.0</td>\n",
       "      <td>No</td>\n",
       "    </tr>\n",
       "    <tr>\n",
       "      <th>1</th>\n",
       "      <td>3</td>\n",
       "      <td>2</td>\n",
       "      <td>3</td>\n",
       "      <td>4.0</td>\n",
       "      <td>Yes</td>\n",
       "    </tr>\n",
       "    <tr>\n",
       "      <th>2</th>\n",
       "      <td>1</td>\n",
       "      <td>1</td>\n",
       "      <td>1</td>\n",
       "      <td>1.0</td>\n",
       "      <td>No</td>\n",
       "    </tr>\n",
       "    <tr>\n",
       "      <th>3</th>\n",
       "      <td>3</td>\n",
       "      <td>4</td>\n",
       "      <td>3</td>\n",
       "      <td>3.0</td>\n",
       "      <td>Yes</td>\n",
       "    </tr>\n",
       "    <tr>\n",
       "      <th>4</th>\n",
       "      <td>3</td>\n",
       "      <td>3</td>\n",
       "      <td>2</td>\n",
       "      <td>3.0</td>\n",
       "      <td>Yes</td>\n",
       "    </tr>\n",
       "  </tbody>\n",
       "</table>\n",
       "</div>"
      ],
      "text/plain": [
       "   Data Structures and Algorithms  Coding  Structured Problem Solving  \\\n",
       "0                               2       3                           4   \n",
       "1                               3       2                           3   \n",
       "2                               1       1                           1   \n",
       "3                               3       4                           3   \n",
       "4                               3       3                           2   \n",
       "\n",
       "   Communication Recommendation  \n",
       "0            5.0             No  \n",
       "1            4.0            Yes  \n",
       "2            1.0             No  \n",
       "3            3.0            Yes  \n",
       "4            3.0            Yes  "
      ]
     },
     "metadata": {},
     "output_type": "display_data"
    }
   ],
   "source": [
    "df = df.drop('Commerciality', axis=1)\n",
    "df['Communication'].fillna(1, inplace=True)\n",
    "display(df.head(5))"
   ]
  },
  {
   "cell_type": "code",
   "execution_count": null,
   "id": "9b2b7f9c",
   "metadata": {},
   "outputs": [],
   "source": [
    "#convert Communication Column from Type Float to Int "
   ]
  }
 ],
 "metadata": {
  "kernelspec": {
   "display_name": "Python 3 (ipykernel)",
   "language": "python",
   "name": "python3"
  },
  "language_info": {
   "codemirror_mode": {
    "name": "ipython",
    "version": 3
   },
   "file_extension": ".py",
   "mimetype": "text/x-python",
   "name": "python",
   "nbconvert_exporter": "python",
   "pygments_lexer": "ipython3",
   "version": "3.11.4"
  }
 },
 "nbformat": 4,
 "nbformat_minor": 5
}
